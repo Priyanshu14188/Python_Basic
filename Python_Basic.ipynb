{
  "nbformat": 4,
  "nbformat_minor": 0,
  "metadata": {
    "colab": {
      "provenance": []
    },
    "kernelspec": {
      "name": "python3",
      "display_name": "Python 3"
    },
    "language_info": {
      "name": "python"
    }
  },
  "cells": [
    {
      "cell_type": "markdown",
      "source": [
        "#Python Basic\n"
      ],
      "metadata": {
        "id": "ZZjKaeEe4J73"
      }
    },
    {
      "cell_type": "markdown",
      "source": [
        "Question1 : What is Python, and why is it popular?\n",
        "\n",
        "Answer : Python is computer language just like  we use english to talk to people, we use python to \"talk\" to computer and tell them what to do.\n",
        "Python is popular because of the following:\n",
        "1. Easy to learn and read\n",
        "2. Versatile\n",
        "3. Huge library support\n",
        "4. Cross platform\n",
        "\n",
        "_________________________________________________________________\n",
        "Question2 : What is an interpreter in Python?\n",
        "\n",
        "Answer : The interpreter reads your python code line by line and translate it into something the computer understand.\n",
        "\n",
        "\n",
        "_________________________________________________________\n",
        "Question3 : What are pre-defined keywords in Python?\n",
        "\n",
        "Answer : Keywords in python are special reserved words that have fixed meanings. You can't use them as variable names because Python already uses them to understand your code.\n",
        "They are like built in instructions for python.\n",
        "Example: print, break, if ,else etc.\n",
        "\n",
        "_________________________________________________________________________________\n",
        "Question4: Can keywords be used as variable names?\n",
        "\n",
        "Answer: No, keywords cannot be used as variable names in Python. Using a keyword as a variable name will confuse the interpreter and cause an error.\n",
        "\n",
        "Question5: What is Mutability in Python?\n",
        "Answer: Mutability means whether a value can be changed after it's created.\n",
        "In python mutable data types are:\n",
        "List , dict and set.\n",
        "\n",
        "\n",
        "________________________________________________________________________\n",
        "Question6: Why are lists mutable but tuples immutable in Python?\n",
        "\n",
        "Answer:\n",
        "1.   Lists are designed to be flexible:\n",
        "a. List are made for situations where we want to change, add, or remove item easily.\n",
        "b. Beacuse of this, Python allows lists to be mutable we can modify them after creating them.\n",
        "2. Tuples are designed to be fixed:\n",
        "a. Tuples are used when we want to group item together that should not change.\n",
        "b. Because of this, tuples are immutable once created you cannot modify them.\n",
        "c. This makes tuples safer to use as fixed collection, and they can be used as keys in dictionaries.\n",
        "\n",
        "\n",
        "\n",
        "______________________________________________________________________\n",
        "Questions7: What is the difference between “==” and “is” operators in Python?\n",
        "\n",
        "Answer: \"==\" compares the content of two variables.\n",
        " Exapmle:\n",
        "a=[1,2,3]\n",
        "b=[1,2,3]\n",
        "print(a==b) result is True\n",
        "\"is\" checkes if two variables refer to the exact same object in memory.\n",
        "Example: print(a is b) result is False\n",
        "\n",
        "______________________________________________________________________\n",
        "Question8: What are logical operators in Python?\n",
        "\n",
        "Answer: Logical operators are used to combine or compare multiple conditions.\n",
        "they return either \"True\" or \"False\", depending on the logic.\n",
        "Three main logical operators are \"and\", \"or\" and \"not\"\n",
        "Example: x = 5\n",
        "print(x > 2 and x < 10) result is True\n",
        "_____________________________________________________________\n",
        "\n",
        "Question9: What is type casting in Python?\n",
        "\n",
        "Answer: Type casting means converting one data type to another.\n",
        "Example: x = \"5\"\n",
        "y = int(x)\n",
        "print(y+2)  result is 7\n",
        "\n",
        "\n",
        "________________________________________________________________________________\n",
        "Question10: What is the difference between implicit and explicit type casting?\n",
        "\n",
        "Answer: 1. Implicit Type Casting\n",
        "Python automatically convert one type to another witout your help\n",
        "Example: x=5\n",
        "y=2.0\n",
        "z=x+y\n",
        "print(z) result is 7.0\n",
        "print(type(z)) result is <class 'float'>\n",
        "\n",
        "2. Explicit type casting\n",
        "We manually convert one type to another using a functions like int(), float(), str(), etc.\n",
        "x=\"5\"\n",
        "y=int(x)\n",
        "print(y+10) result is 15\n",
        "print(type(y)) result is <class 'int'>\n",
        "\n",
        "______________________________________________________________________\n",
        "Question11:What is the purpose of conditional statements in Python?\n",
        "\n",
        "Answer: Conditional statements let your program make decisions.\n",
        "They allow your code to do something only if condition is true.\n",
        "\n",
        "Example:\n",
        "age = 18\n",
        "\n",
        "if age >= 18:\n",
        "    print(\"You can vote\")\n",
        "else:\n",
        "    print(\"You cannot vote\")\n",
        "\n",
        "Result is You can vote\n",
        "\n",
        "______________________________________________________________________________\n",
        "Questions12: How does the elif statement work?\n",
        "\n",
        "Answer: elif stands for \"else if\".\n",
        "It let you check another condition if the first one is false.\n",
        "\n",
        "How it works:\n",
        "1. Python checks the first \"if\" condition.\n",
        "2. If \"if\" is True, it runs that block and skips the rest.\n",
        "3 If \"if\" is false, python checks the \"elif\".\n",
        "4. We can use many \"elif\" to checks multiple conditions.\n",
        "5. Finally, we can use \"else\" as a fallback if none match.\n",
        "\n",
        "Example:\n",
        "number = 0\n",
        "\n",
        "if number > 0:\n",
        "    print(\"Positive\")\n",
        "elif number == 0:\n",
        "    print(\"Zero\")       --> this will run\n",
        "else:\n",
        "    print(\"Negative\")\n",
        "Result is Zero\n",
        "\n",
        "_______________________________________________________________________________\n",
        "\n",
        "Question13: What is the difference between for and while loops?\n",
        "\n",
        "Answer: for loop:-\n",
        "1. Used when the number of iterations is known.\n",
        "2. Loop variable (counter) is handled automatically.\n",
        "3. Uses a sequence or range (e.g., range(), list).\n",
        "4. Less risk of infinite loop.\n",
        "5. Syntax is more compact and readable.\n",
        "\n",
        "while loop:-\n",
        "1. Used when the number of iterations is unknown.\n",
        "2. You must manually update the loop variable.\n",
        "3. Uses a condition (e.g., while x < 10).\n",
        "4. Higher risk of infinite loop if condition isn’t updated.\n",
        "5. Syntax can be longer and manual.\n",
        "________________________________________________________________\n",
        "Question14: Describe a scenario where a while loop is more suitable than a for loop?\n",
        "\n",
        "Answer: Use a \"while\" loop when we don't know how many times the loop should run but we do know what condition should keep it going.\n",
        "\n",
        "correct_password = \"python123\"\n",
        "user_input = \"\"\n",
        "\n",
        "while user_input != correct_password:\n",
        "    user_input = input(\"Enter your password: \")\n",
        "\n",
        "print(\"Access granted!\")"
      ],
      "metadata": {
        "id": "ph6pHNpA4OWR"
      }
    },
    {
      "cell_type": "markdown",
      "source": [
        "#Practical Questions"
      ],
      "metadata": {
        "id": "bge-p-ka6CGv"
      }
    },
    {
      "cell_type": "code",
      "source": [
        "# 1. Write a Python program to print \"Hello, World!\"\n",
        "print('\"Hello, World!\"')"
      ],
      "metadata": {
        "colab": {
          "base_uri": "https://localhost:8080/"
        },
        "id": "tvT7RTL87GWW",
        "outputId": "8b6e6741-176b-468d-e926-4034f2855440"
      },
      "execution_count": null,
      "outputs": [
        {
          "output_type": "stream",
          "name": "stdout",
          "text": [
            "\"Hello, World!\"\n"
          ]
        }
      ]
    },
    {
      "cell_type": "code",
      "source": [
        "# 2. Write a python program that display your name and age.\n",
        "Name=\"Priyanshu Sharma\"\n",
        "Age=26\n",
        "print(f\"My name is {Name} and my age is {Age}\")"
      ],
      "metadata": {
        "colab": {
          "base_uri": "https://localhost:8080/"
        },
        "id": "Tp7YtMsI7Rkq",
        "outputId": "191c6465-5fd6-482e-d306-d320dfe173e5"
      },
      "execution_count": null,
      "outputs": [
        {
          "output_type": "stream",
          "name": "stdout",
          "text": [
            "My name is Priyanshu Sharma and my age is 26\n"
          ]
        }
      ]
    },
    {
      "cell_type": "code",
      "source": [
        "# 3. Write code to print all the pre-defined keywords in Python using the keyword library\n",
        "\n",
        "import keyword\n",
        "\n",
        "all_keywords = keyword.kwlist\n",
        "\n",
        "print(\"Python Keywords:\")\n",
        "for kw in all_keywords:\n",
        "    print(kw)\n"
      ],
      "metadata": {
        "colab": {
          "base_uri": "https://localhost:8080/"
        },
        "id": "kRvKD7MH7daM",
        "outputId": "37905153-8f70-46cb-8c08-47f1dd383395"
      },
      "execution_count": null,
      "outputs": [
        {
          "output_type": "stream",
          "name": "stdout",
          "text": [
            "Python Keywords:\n",
            "False\n",
            "None\n",
            "True\n",
            "and\n",
            "as\n",
            "assert\n",
            "async\n",
            "await\n",
            "break\n",
            "class\n",
            "continue\n",
            "def\n",
            "del\n",
            "elif\n",
            "else\n",
            "except\n",
            "finally\n",
            "for\n",
            "from\n",
            "global\n",
            "if\n",
            "import\n",
            "in\n",
            "is\n",
            "lambda\n",
            "nonlocal\n",
            "not\n",
            "or\n",
            "pass\n",
            "raise\n",
            "return\n",
            "try\n",
            "while\n",
            "with\n",
            "yield\n"
          ]
        }
      ]
    },
    {
      "cell_type": "code",
      "source": [
        "# 4. Write a program that checks if a given word is a Python keyword.\n",
        "\n",
        "import keyword\n",
        "\n",
        "# Ask the user to enter a word\n",
        "word = input(\"Enter a word to check if it is a Python keyword: \")\n",
        "\n",
        "# Check using the keyword module\n",
        "if keyword.iskeyword(word):\n",
        "    print(f\"'{word}' is a Python keyword.\")\n",
        "else:\n",
        "    print(f\"'{word}' is NOT a Python keyword.\")\n"
      ],
      "metadata": {
        "colab": {
          "base_uri": "https://localhost:8080/"
        },
        "id": "lKbgS-Yu7mnt",
        "outputId": "8813737e-f0f6-4df1-ffff-b6ac28d5ec60"
      },
      "execution_count": null,
      "outputs": [
        {
          "output_type": "stream",
          "name": "stdout",
          "text": [
            "Enter a word to check if it is a Python keyword: import\n",
            "'import' is a Python keyword.\n"
          ]
        }
      ]
    },
    {
      "cell_type": "code",
      "source": [
        "''' 5. Create a list and tuple in Python, and demonstrate how attempting to change an element works differently\n",
        "for each.'''\n",
        "\n",
        "my_list = [10, 20, 30]\n",
        "my_tuple = (10, 20, 30)\n",
        "\n",
        "print(\"Original list:\", my_list)\n",
        "my_list[1] = 99\n",
        "print(\"Modified list:\", my_list)\n",
        "\n",
        "print(\"Original tuple:\", my_tuple)\n",
        "my_tuple[1] = 99 # it gives error because tuple does not support item assignment"
      ],
      "metadata": {
        "colab": {
          "base_uri": "https://localhost:8080/",
          "height": 228
        },
        "id": "BpeZpTan72D2",
        "outputId": "f860f7de-f48f-4108-aaba-3a6d59449210"
      },
      "execution_count": 8,
      "outputs": [
        {
          "output_type": "stream",
          "name": "stdout",
          "text": [
            "Original list: [10, 20, 30]\n",
            "Modified list: [10, 99, 30]\n",
            "Original tuple: (10, 20, 30)\n"
          ]
        },
        {
          "output_type": "error",
          "ename": "TypeError",
          "evalue": "'tuple' object does not support item assignment",
          "traceback": [
            "\u001b[0;31m---------------------------------------------------------------------------\u001b[0m",
            "\u001b[0;31mTypeError\u001b[0m                                 Traceback (most recent call last)",
            "\u001b[0;32m/tmp/ipython-input-8-473105147.py\u001b[0m in \u001b[0;36m<cell line: 0>\u001b[0;34m()\u001b[0m\n\u001b[1;32m     10\u001b[0m \u001b[0;34m\u001b[0m\u001b[0m\n\u001b[1;32m     11\u001b[0m \u001b[0mprint\u001b[0m\u001b[0;34m(\u001b[0m\u001b[0;34m\"Original tuple:\"\u001b[0m\u001b[0;34m,\u001b[0m \u001b[0mmy_tuple\u001b[0m\u001b[0;34m)\u001b[0m\u001b[0;34m\u001b[0m\u001b[0;34m\u001b[0m\u001b[0m\n\u001b[0;32m---> 12\u001b[0;31m \u001b[0mmy_tuple\u001b[0m\u001b[0;34m[\u001b[0m\u001b[0;36m1\u001b[0m\u001b[0;34m]\u001b[0m \u001b[0;34m=\u001b[0m \u001b[0;36m99\u001b[0m\u001b[0;34m\u001b[0m\u001b[0;34m\u001b[0m\u001b[0m\n\u001b[0m",
            "\u001b[0;31mTypeError\u001b[0m: 'tuple' object does not support item assignment"
          ]
        }
      ]
    },
    {
      "cell_type": "code",
      "source": [
        "# 6. Write a function to demonstrate the behavior of mutable and immutable arguments.\n",
        "def modify_value(a,b):\n",
        "    a = a + 1\n",
        "    b.append(100)\n",
        "    print(\"\\nInside the function:\")\n",
        "    print(\"a =\", a)\n",
        "    print(\"b =\", b)\n",
        "\n",
        "x = 10\n",
        "y = [10 , 20 , 30]\n",
        "\n",
        "print(\"Before function call:\")\n",
        "print(\"x =\", x)\n",
        "print(\"y =\", y)\n",
        "\n",
        "modify_value(x,y)\n",
        "\n",
        "print(\"\\nAfter function call:\")\n",
        "print(\"x =\", x)\n",
        "print(\"y =\", y)"
      ],
      "metadata": {
        "colab": {
          "base_uri": "https://localhost:8080/"
        },
        "id": "syYYojfc8asv",
        "outputId": "bca5843e-5230-42ca-c5c7-fc8a19339891"
      },
      "execution_count": 9,
      "outputs": [
        {
          "output_type": "stream",
          "name": "stdout",
          "text": [
            "Before function call:\n",
            "x = 10\n",
            "y = [10, 20, 30]\n",
            "\n",
            "Inside the function:\n",
            "a = 11\n",
            "b = [10, 20, 30, 100]\n",
            "\n",
            "After function call:\n",
            "x = 10\n",
            "y = [10, 20, 30, 100]\n"
          ]
        }
      ]
    },
    {
      "cell_type": "code",
      "source": [
        "# 7. Write a program that performs basic arithmetic operations on two user-input numbers.\n",
        "\n",
        "num1 = float(input(\"Enter a first number:\"))\n",
        "num2 = float(input(\"Enter a second number:\"))\n",
        "\n",
        "print(f\"\\nAddition of {num1} + {num2} is\", num1 + num2)\n",
        "print(f\"Substraction of {num1} - {num2} is\", num1 - num2)\n",
        "print(f\"Multiplication of {num1} * {num2} is\", num1 * num2)\n",
        "\n",
        "if num2==0:\n",
        "    print(\"Please not give zero in second value\")\n",
        "else:\n",
        "    print(f\"Division of {num1} / {num2} is\", num1 / num2)"
      ],
      "metadata": {
        "colab": {
          "base_uri": "https://localhost:8080/"
        },
        "id": "E3UyEbdp80VF",
        "outputId": "b35c75f5-4164-4eba-ad8b-4e4280a8131c"
      },
      "execution_count": 12,
      "outputs": [
        {
          "output_type": "stream",
          "name": "stdout",
          "text": [
            "Enter a first number:5\n",
            "Enter a second number:6\n",
            "\n",
            "Addition of 5.0 + 6.0 is 11.0\n",
            "Substraction of 5.0 - 6.0 is -1.0\n",
            "Multiplication of 5.0 * 6.0 is 30.0\n",
            "Division of 5.0 / 6.0 is 0.8333333333333334\n"
          ]
        }
      ]
    },
    {
      "cell_type": "code",
      "source": [
        "# 8. Write a program to demonstrate the use of logical operators.\n",
        "\n",
        "x = int(input(\"Enter a number: \"))\n",
        "y = int(input(\"Enter another number: \"))\n",
        "\n",
        "if x > 0 and y > 0:\n",
        "    print(\"Both numbers are positive.\")\n",
        "elif x > 0 or y > 0:\n",
        "    print(\"At least one number is positive.\")\n",
        "else:\n",
        "    print(\"Neither number is positive.\")\n",
        "\n",
        "if not (x == y):\n",
        "    print(\"The numbers are different.\")\n",
        "else:\n",
        "    print(\"The numbers are the same.\")\n"
      ],
      "metadata": {
        "colab": {
          "base_uri": "https://localhost:8080/"
        },
        "id": "Apr7Xkud9EJF",
        "outputId": "c763884b-4108-463e-a33b-6100ab7f6f65"
      },
      "execution_count": 13,
      "outputs": [
        {
          "output_type": "stream",
          "name": "stdout",
          "text": [
            "Enter a number: 5\n",
            "Enter another number: 6\n",
            "Both numbers are positive.\n",
            "The numbers are different.\n"
          ]
        }
      ]
    },
    {
      "cell_type": "code",
      "source": [
        "# 9. Write a Python program to convert user input from string to integer, float, and boolean types.\n",
        "\n",
        "user_input = input(\"Enter something: \")\n",
        "\n",
        "try:\n",
        "    int_value = int(user_input)\n",
        "except ValueError:\n",
        "    int_value = None\n",
        "\n",
        "try:\n",
        "    float_value = float(user_input)\n",
        "except ValueError:\n",
        "    float_value = None\n",
        "\n",
        "bool_value = bool(user_input)\n",
        "\n",
        "print(\"As integer:\", int_value)\n",
        "print(\"As float:\", float_value)\n",
        "print(\"As boolean:\", bool_value)\n"
      ],
      "metadata": {
        "colab": {
          "base_uri": "https://localhost:8080/"
        },
        "id": "K0xkOtYo9Kax",
        "outputId": "a1683067-f300-43db-8958-9ba36b583905"
      },
      "execution_count": 15,
      "outputs": [
        {
          "output_type": "stream",
          "name": "stdout",
          "text": [
            "Enter something: 0\n",
            "As integer: 0\n",
            "As float: 0.0\n",
            "As boolean: True\n"
          ]
        }
      ]
    },
    {
      "cell_type": "code",
      "source": [
        "# 10. Write code to demonstrate type casting with list elements.\n",
        "lst = ['1', '2', '3', '4']\n",
        "\n",
        "int_list = [int(x) for x in lst]\n",
        "float_list = [float(x) for x in lst]\n",
        "str_list = [str(x) for x in int_list]\n",
        "\n",
        "print(int_list)\n",
        "print(float_list)\n",
        "print(str_list)\n"
      ],
      "metadata": {
        "colab": {
          "base_uri": "https://localhost:8080/"
        },
        "id": "Q0yNRTN8LV2l",
        "outputId": "e5d52b42-bd78-4437-edf2-ca9a37af8640"
      },
      "execution_count": 1,
      "outputs": [
        {
          "output_type": "stream",
          "name": "stdout",
          "text": [
            "[1, 2, 3, 4]\n",
            "[1.0, 2.0, 3.0, 4.0]\n",
            "['1', '2', '3', '4']\n"
          ]
        }
      ]
    },
    {
      "cell_type": "code",
      "source": [
        "# 11. Write a program that checks if a number is positive, negative, or zero.\n",
        "while True:\n",
        "    user_input = input(\"Write any number (not decimal number) to check (or type 'exit' to stop):\")\n",
        "\n",
        "    if user_input.lower() == 'exit':\n",
        "        print(\"Goodbye!\")\n",
        "        break\n",
        "\n",
        "    if user_input.lstrip('-').isdigit():\n",
        "        num = float(user_input)\n",
        "\n",
        "        if num > 0:\n",
        "            print(\"The number is Positive.\\n\")\n",
        "        elif num < 0:\n",
        "            print(\"The number is Negative.\\n\")\n",
        "        else:\n",
        "            print(\"The number is Zero.\\n\")\n",
        "\n",
        "    else:\n",
        "        print(\"Please enter a valid number or 'exit'.\\n\")"
      ],
      "metadata": {
        "colab": {
          "base_uri": "https://localhost:8080/"
        },
        "id": "B7uAFXk4_lrX",
        "outputId": "97ee03b8-f784-4fdd-81ba-418bb7f112c2"
      },
      "execution_count": 16,
      "outputs": [
        {
          "output_type": "stream",
          "name": "stdout",
          "text": [
            "Write any number (not decimal number) to check (or type 'exit' to stop):5\n",
            "The number is Positive.\n",
            "\n",
            "Write any number (not decimal number) to check (or type 'exit' to stop):-4\n",
            "The number is Negative.\n",
            "\n",
            "Write any number (not decimal number) to check (or type 'exit' to stop):exit\n",
            "Goodbye!\n"
          ]
        }
      ]
    },
    {
      "cell_type": "code",
      "source": [
        "# 12. Write a for loop to print numbers from 1 to 10.\n",
        "for i in range(1,11):\n",
        "    print(i)"
      ],
      "metadata": {
        "colab": {
          "base_uri": "https://localhost:8080/"
        },
        "id": "UggYWunP_wZm",
        "outputId": "ba3d15a7-57df-4ae6-e8fd-e0c11adca88a"
      },
      "execution_count": 17,
      "outputs": [
        {
          "output_type": "stream",
          "name": "stdout",
          "text": [
            "1\n",
            "2\n",
            "3\n",
            "4\n",
            "5\n",
            "6\n",
            "7\n",
            "8\n",
            "9\n",
            "10\n"
          ]
        }
      ]
    },
    {
      "cell_type": "code",
      "source": [
        "# 13. Write a Python program to find the sum of all even numbers between 1 and 50\n",
        "\n",
        "sum = 0\n",
        "\n",
        "for i in range(1, 51):\n",
        "    if i % 2 == 0:\n",
        "        sum = sum + i\n",
        "\n",
        "\n",
        "print(f\" Sum of all even numbers between 1 to 50 is {sum}\")\n"
      ],
      "metadata": {
        "colab": {
          "base_uri": "https://localhost:8080/"
        },
        "id": "jcLBmr-EAJCy",
        "outputId": "8d4c046e-5e37-422d-d78c-0fc8fd6373ff"
      },
      "execution_count": 18,
      "outputs": [
        {
          "output_type": "stream",
          "name": "stdout",
          "text": [
            " Sum of all even numbers between 1 to 50 is 650\n"
          ]
        }
      ]
    },
    {
      "cell_type": "code",
      "source": [
        "# 14. Write a program to reverse a string using a while loop.\n",
        "\n",
        "text = input(\"Enter a string:\")\n",
        "\n",
        "reversed_text=\"\"\n",
        "index= len(text) - 1\n",
        "\n",
        "\n",
        "while index >=0:\n",
        "    reversed_text = reversed_text + text[index]\n",
        "    index = index - 1\n",
        "\n",
        "print(f\"Reverse of {text} is {reversed_text}\")"
      ],
      "metadata": {
        "colab": {
          "base_uri": "https://localhost:8080/"
        },
        "id": "xwwo0zuzAM4i",
        "outputId": "1d245c1b-1624-422b-84bc-14b6f1d376fa"
      },
      "execution_count": 19,
      "outputs": [
        {
          "output_type": "stream",
          "name": "stdout",
          "text": [
            "Enter a string:Ram\n",
            "Reverse of Ram is maR\n"
          ]
        }
      ]
    },
    {
      "cell_type": "code",
      "source": [
        "# 15. Write a Python program to calculate the factorial of a number provided by the user using a while loop.\n",
        "\n",
        "num = int(input(\"Enter a non-negative number: \"))\n",
        "if num < 0:\n",
        "    print(\"Factorial is not defined for negative numbers.\")\n",
        "else:\n",
        "    factorial = 1\n",
        "    i = 1\n",
        "    while i <= num:\n",
        "        factorial = factorial * i\n",
        "        i = i + 1\n",
        "\n",
        "    print(f\"The factorial of {num} is: {factorial}\")"
      ],
      "metadata": {
        "colab": {
          "base_uri": "https://localhost:8080/"
        },
        "id": "570DI5vfAQ-q",
        "outputId": "574c1a0d-199f-4e7c-883a-7d84df387f71"
      },
      "execution_count": 20,
      "outputs": [
        {
          "output_type": "stream",
          "name": "stdout",
          "text": [
            "Enter a non-negative number: 5\n",
            "The factorial of 5 is: 120\n"
          ]
        }
      ]
    }
  ]
}